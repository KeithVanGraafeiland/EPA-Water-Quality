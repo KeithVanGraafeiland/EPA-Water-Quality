{
 "cells": [
  {
   "cell_type": "code",
   "execution_count": 1,
   "metadata": {},
   "outputs": [],
   "source": [
    "## PROCESSING LOGIC\n",
    "## First download the station data for the Gulf States (TX, LA, AL, MS, FL)\n",
    "## Then clip the stations to the watershed counties \n",
    "## Use the station names to build a URL and access the \"narrow\" sample results from the EPA Water Quality API"
   ]
  },
  {
   "cell_type": "code",
   "execution_count": 2,
   "metadata": {},
   "outputs": [],
   "source": [
    "## RESOURCES\n",
    "\n",
    "## EPA Water Quality Site:\n",
    "## https://www.waterqualitydata.us/\n",
    "\n",
    "## URL Examples\n",
    "## Download all the stations for USA states FL, AL, TX, MS, LA as a GEOJSON:\n",
    "## https://www.waterqualitydata.us/data/Station/search?countrycode=US&statecode=US%3A01&statecode=US%3A12&statecode=US%3A48&statecode=US%3A28&statecode=US%3A22&mimeType=geojsonv&zip=yes&providers=NWIS&providers=STEWARDS&providers=STORET\n",
    "\n",
    "## Download all the sample data for a given station (0800257-CC-05) as a CSV:\n",
    "## https://www.waterqualitydata.us/data/Result/search?siteid=0800257-CC-05&mimeType=csv&zip=yes&dataProfile=narrowResult&providers=NWIS&providers=STEWARDS&providers=STORET\n",
    "\n",
    "## CODE REFERENCE\n",
    "## Python Code reference: https://docs.python.org/3.8/\n",
    "## Arcpy Reference: https://developers.arcgis.com/python/api-reference/\n",
    "## Time Sleep reference: https://stackoverflow.com/questions/72590954/how-to-add-the-time-sleep-after-every-100-iterations\n",
    "## Time Sleep reference 2: https://stackoverflow.com/questions/72590954/how-to-add-the-time-sleep-after-every-100-iterations\n",
    "## Enumerate in Python: https://realpython.com/python-enumerate/"
   ]
  },
  {
   "cell_type": "code",
   "execution_count": 3,
   "metadata": {},
   "outputs": [],
   "source": [
    "#IMPORT LIBRARIES\n",
    "\n",
    "import arcpy\n",
    "import arcgis\n",
    "from arcgis.gis import GIS\n",
    "#from arcgis.mapping import WebMap\n",
    "from datetime import datetime\n",
    "from datetime import timedelta\n",
    "import urllib.request\n",
    "import os\n",
    "import pandas\n",
    "import glob\n",
    "import zipfile\n",
    "gis = GIS(\"home\")\n",
    "arcpy.env.overwriteOutput = True\n",
    "arcgis.env.verbose = True "
   ]
  },
  {
   "cell_type": "code",
   "execution_count": 4,
   "metadata": {},
   "outputs": [],
   "source": [
    "## DEFINE VARIABLES\n",
    "\n",
    "ROOT = r'C:\\Temp\\EPA-Water-Quality' #TODO Change to your preferred directory\n",
    "TODAY = (datetime.today())\n",
    "CURRENT_DATE = (TODAY.strftime('%Y%m%d'))\n",
    "## Testing example for Baldwin County, Alabama:\n",
    "# WATER_QUALITY_STATIONS_URL = 'https://www.waterqualitydata.us/data/Station/search?countrycode=US&statecode=US%3A01&countycode=US%3A01%3A003&mimeType=geojson&zip=yes&providers=NWIS&providers=STEWARDS&providers=STORET'\n",
    "## All data for AL, FL, LA, MS, TX:\n",
    "# WATER_QUALITY_STATIONS_URL = 'https://www.waterqualitydata.us/data/Station/search?countrycode=US&statecode=US%3A01&statecode=US%3A12&statecode=US%3A22&statecode=US%3A28&statecode=US%3A48&mimeType=geojson&zip=yes&providers=NWIS&providers=STEWARDS&providers=STORET'\n",
    "## All data within bounding box of 32N, 23N, -78W, -100W\n",
    "WATER_QUALITY_STATIONS_URL ='https://www.waterqualitydata.us/data/Station/search?bBox=-100%2C23%2C-78%2C32&mimeType=csv&zip=yes&providers=NWIS&providers=STEWARDS&providers=STORET'\n",
    "WORKING_DIRECTORY = ROOT + '\\\\working_' + str(CURRENT_DATE) + '\\\\'\n",
    "WATER_QUALITY_STATIONS_DIRECTORY = WORKING_DIRECTORY + 'stations\\\\'\n",
    "WATER_QUALITY_STATIONS_ZIP = WATER_QUALITY_STATIONS_DIRECTORY + 'water_quality_stations.zip'\n",
    "WORKING_STATIONS_JSON = WORKING_DIRECTORY + 'station.geojson'\n",
    "#WORKING_STATIONS_SHP  = WORKING_DIRECTORY + 'station.shp'\n",
    "#CLIPPED_STATIONS = WORKING_DIRECTORY + 'goma_stations.shp'\n",
    "COASTAL_COUNTIES = WORKING_DIRECTORY + 'coastal_watershed_counties.shp'\n",
    "CSV_WORKING_DIRECTORY = WORKING_DIRECTORY + 'csv\\\\'\n",
    "GDB_NAME = 'GoMA_Water_Quality_Data.gdb'\n",
    "GDB_FULL_PATH = WORKING_DIRECTORY + GDB_NAME\n",
    "WORKING_STATIONS_FC  = GDB_FULL_PATH + '\\\\' + 'stations'\n",
    "CLIPPED_STATIONS_FC = GDB_FULL_PATH + '\\\\' + 'GoMA_stations'"
   ]
  },
  {
   "cell_type": "code",
   "execution_count": 5,
   "metadata": {},
   "outputs": [],
   "source": [
    "## Create the directory structure\n",
    "\n",
    "if not os.path.exists(ROOT):\n",
    "    os.makedirs(ROOT)\n",
    "if not os.path.exists(WORKING_DIRECTORY):\n",
    "    os.makedirs(WORKING_DIRECTORY)\n",
    "if not os.path.exists(CSV_WORKING_DIRECTORY):\n",
    "    os.makedirs(CSV_WORKING_DIRECTORY)\n",
    "if not os.path.exists(WATER_QUALITY_STATIONS_DIRECTORY):\n",
    "    os.makedirs(WATER_QUALITY_STATIONS_DIRECTORY)"
   ]
  },
  {
   "cell_type": "code",
   "execution_count": 6,
   "metadata": {},
   "outputs": [
    {
     "data": {
      "text/html": [
       "<div class='gpresult'><h2>Messages</h2><div id='messages' data-messages='[\"Start Time: Tuesday, May 2, 2023 8:29:26 AM\",\"Succeeded at Tuesday, May 2, 2023 8:29:28 AM (Elapsed Time: 1.87 seconds)\"]' data-show='true'><div id = 'default' /></div></div>"
      ],
      "text/plain": [
       "<Result 'C:\\\\temp\\\\EPA-Water-Quality\\\\working_20230502\\\\GoMA_Water_Quality_Data.gdb'>"
      ]
     },
     "execution_count": 6,
     "metadata": {},
     "output_type": "execute_result"
    }
   ],
   "source": [
    "## Create a file geodatbase to output the stations and sample data to\n",
    "\n",
    "arcpy.management.CreateFileGDB(WORKING_DIRECTORY, GDB_NAME)"
   ]
  },
  {
   "cell_type": "code",
   "execution_count": 7,
   "metadata": {},
   "outputs": [
    {
     "data": {
      "text/plain": [
       "('C:\\\\Temp\\\\EPA-Water-Quality\\\\working_20230502\\\\stations\\\\water_quality_stations.zip',\n",
       " <http.client.HTTPMessage at 0x28a24a602b0>)"
      ]
     },
     "execution_count": 7,
     "metadata": {},
     "output_type": "execute_result"
    }
   ],
   "source": [
    "# Download a zipped geojson of the water quality stations for AL, FL, LA, MS and TX\n",
    "# this uses the \"WATER_QUALITY_STATIONS_URL\" defined above\n",
    "\n",
    "urllib.request.urlretrieve(WATER_QUALITY_STATIONS_URL, WATER_QUALITY_STATIONS_ZIP)"
   ]
  },
  {
   "cell_type": "code",
   "execution_count": 8,
   "metadata": {},
   "outputs": [],
   "source": [
    "# Extract the zipped geojson stations file\n",
    "\n",
    "with zipfile.ZipFile(WATER_QUALITY_STATIONS_ZIP, 'r') as zip_ref:\n",
    "    zip_ref.extractall(WORKING_DIRECTORY)"
   ]
  },
  {
   "cell_type": "code",
   "execution_count": 9,
   "metadata": {},
   "outputs": [
    {
     "data": {
      "text/html": [
       "<div class='gpresult'><h2>Messages</h2><div id='messages' data-messages='[\"Start Time: Tuesday, May 2, 2023 8:29:28 AM\",\"Succeeded at Tuesday, May 2, 2023 8:29:30 AM (Elapsed Time: 1.41 seconds)\"]' data-show='true'><div id = 'default' /></div></div>"
      ],
      "text/plain": [
       "<Result 'C:\\\\temp\\\\EPA-Water-Quality\\\\working_20230502\\\\GoMA_Water_Quality_Data.gdb\\\\stations'>"
      ]
     },
     "execution_count": 9,
     "metadata": {},
     "output_type": "execute_result"
    }
   ],
   "source": [
    "# Convert the geojson stations to a feature class\n",
    "\n",
    "arcpy.conversion.JSONToFeatures(WORKING_STATIONS_JSON, WORKING_STATIONS_FC, geometry_type=\"POINT\")"
   ]
  },
  {
   "cell_type": "code",
   "execution_count": 10,
   "metadata": {},
   "outputs": [],
   "source": [
    "# GoMA Water Quality Area of Interest (AOI)\n",
    "# ItemID = '39b57581c9de439484aa52f4fb8f44d2'\n",
    "\n",
    "GOMA_WQ_AOI ='https://services.arcgis.com/bDAhvQYMG4WL8O5o/arcgis/rest/services/GoMA_Water_Quality_AOI/FeatureServer/4'"
   ]
  },
  {
   "cell_type": "code",
   "execution_count": 11,
   "metadata": {},
   "outputs": [
    {
     "data": {
      "text/html": [
       "<div class='gpresult'><h2>Messages</h2><div id='messages' data-messages='[\"Start Time: Tuesday, May 2, 2023 8:29:32 AM\",\"Analyzing input features...\",\"Dissolving clip features...\",\"Clipping input features...\",\"Succeeded at Tuesday, May 2, 2023 8:29:34 AM (Elapsed Time: 1.78 seconds)\"]' data-show='true'><div id = 'default' /></div></div>"
      ],
      "text/plain": [
       "<Result 'C:\\\\temp\\\\EPA-Water-Quality\\\\working_20230502\\\\GoMA_Water_Quality_Data.gdb\\\\GoMA_stations'>"
      ]
     },
     "execution_count": 11,
     "metadata": {},
     "output_type": "execute_result"
    }
   ],
   "source": [
    "## Clip the stations to the GoMA Water Quality AOI polygon boundary \n",
    "\n",
    "arcpy.analysis.Clip(WORKING_STATIONS_FC, GOMA_WQ_AOI, CLIPPED_STATIONS_FC)"
   ]
  },
  {
   "cell_type": "code",
   "execution_count": 12,
   "metadata": {},
   "outputs": [],
   "source": [
    "## Consider creating a dictionary from the Stations CSV file.\n",
    "## Also, write to a Feature Class as to not loose the column names, etc."
   ]
  },
  {
   "cell_type": "code",
   "execution_count": 13,
   "metadata": {},
   "outputs": [
    {
     "data": {
      "text/html": [
       "<div class='gpresult'><h2>Messages</h2><div id='messages' data-messages='[\"Start Time: Tuesday, May 2, 2023 8:29:35 AM\",\"Succeeded at Tuesday, May 2, 2023 8:29:39 AM (Elapsed Time: 3.80 seconds)\"]' data-show='true'><div id = 'default' /></div></div>"
      ],
      "text/plain": [
       "<Result 'C:\\\\Temp\\\\EPA-Water-Quality\\\\working_20230502\\\\GoMA_Water_Quality_Data.gdb\\\\GoMA_stations'>"
      ]
     },
     "execution_count": 13,
     "metadata": {},
     "output_type": "execute_result"
    }
   ],
   "source": [
    "arcpy.management.CalculateGeometryAttributes(CLIPPED_STATIONS_FC, [[\"X\", \"POINT_X\"], [\"Y\", \"POINT_Y\"]])"
   ]
  },
  {
   "cell_type": "code",
   "execution_count": 14,
   "metadata": {},
   "outputs": [
    {
     "data": {
      "text/html": [
       "<div>\n",
       "<style scoped>\n",
       "    .dataframe tbody tr th:only-of-type {\n",
       "        vertical-align: middle;\n",
       "    }\n",
       "\n",
       "    .dataframe tbody tr th {\n",
       "        vertical-align: top;\n",
       "    }\n",
       "\n",
       "    .dataframe thead th {\n",
       "        text-align: right;\n",
       "    }\n",
       "</style>\n",
       "<table border=\"1\" class=\"dataframe\">\n",
       "  <thead>\n",
       "    <tr style=\"text-align: right;\">\n",
       "      <th></th>\n",
       "      <th>OBJECTID</th>\n",
       "      <th>ProviderName</th>\n",
       "      <th>OrganizationIdentifier</th>\n",
       "      <th>OrganizationFormalName</th>\n",
       "      <th>MonitoringLocationIdentifier</th>\n",
       "      <th>MonitoringLocationName</th>\n",
       "      <th>MonitoringLocationTypeName</th>\n",
       "      <th>ResolvedMonitoringLocationTypeName</th>\n",
       "      <th>HUCEightDigitCode</th>\n",
       "      <th>siteUrl</th>\n",
       "      <th>activityCount</th>\n",
       "      <th>resultCount</th>\n",
       "      <th>StateName</th>\n",
       "      <th>CountyName</th>\n",
       "      <th>X</th>\n",
       "      <th>Y</th>\n",
       "      <th>SHAPE</th>\n",
       "    </tr>\n",
       "  </thead>\n",
       "  <tbody>\n",
       "    <tr>\n",
       "      <th>0</th>\n",
       "      <td>1</td>\n",
       "      <td>NWIS</td>\n",
       "      <td>USGS-AL</td>\n",
       "      <td>USGS Alabama Water Science Center</td>\n",
       "      <td>USGS-02376240</td>\n",
       "      <td>DYAS CREEK AT US HWY 31 NEAR DYAS, AL.</td>\n",
       "      <td>Stream</td>\n",
       "      <td>Stream</td>\n",
       "      <td>03140106</td>\n",
       "      <td>https://www.waterqualitydata.us/provider/NWIS/...</td>\n",
       "      <td>2</td>\n",
       "      <td>51</td>\n",
       "      <td>Alabama</td>\n",
       "      <td>Baldwin County</td>\n",
       "      <td>-87.684989</td>\n",
       "      <td>30.933517</td>\n",
       "      <td>{\"x\": -87.68498889999995, \"y\": 30.933517000000...</td>\n",
       "    </tr>\n",
       "    <tr>\n",
       "      <th>1</th>\n",
       "      <td>2</td>\n",
       "      <td>NWIS</td>\n",
       "      <td>USGS-AL</td>\n",
       "      <td>USGS Alabama Water Science Center</td>\n",
       "      <td>USGS-02376245</td>\n",
       "      <td>MCCURTIN CREEK NEAR BAY MINETTE AL</td>\n",
       "      <td>Stream</td>\n",
       "      <td>Stream</td>\n",
       "      <td>03140106</td>\n",
       "      <td>https://www.waterqualitydata.us/provider/NWIS/...</td>\n",
       "      <td>1</td>\n",
       "      <td>12</td>\n",
       "      <td>Alabama</td>\n",
       "      <td>Baldwin County</td>\n",
       "      <td>-87.723046</td>\n",
       "      <td>30.909073</td>\n",
       "      <td>{\"x\": -87.72304579999997, \"y\": 30.909073200000...</td>\n",
       "    </tr>\n",
       "    <tr>\n",
       "      <th>2</th>\n",
       "      <td>3</td>\n",
       "      <td>NWIS</td>\n",
       "      <td>USGS-AL</td>\n",
       "      <td>USGS Alabama Water Science Center</td>\n",
       "      <td>USGS-02376250</td>\n",
       "      <td>DYAS CREEK AT CO RD 61 NEAR BAY MINETTE, AL.</td>\n",
       "      <td>Stream</td>\n",
       "      <td>Stream</td>\n",
       "      <td>03140106</td>\n",
       "      <td>https://www.waterqualitydata.us/provider/NWIS/...</td>\n",
       "      <td>0</td>\n",
       "      <td>0</td>\n",
       "      <td>Alabama</td>\n",
       "      <td>Baldwin County</td>\n",
       "      <td>-87.639987</td>\n",
       "      <td>30.870186</td>\n",
       "      <td>{\"x\": -87.63998729999997, \"y\": 30.870185600000...</td>\n",
       "    </tr>\n",
       "    <tr>\n",
       "      <th>3</th>\n",
       "      <td>4</td>\n",
       "      <td>NWIS</td>\n",
       "      <td>USGS-AL</td>\n",
       "      <td>USGS Alabama Water Science Center</td>\n",
       "      <td>USGS-02377200</td>\n",
       "      <td>STYX RIVER NEAR STAPLETON AL</td>\n",
       "      <td>Stream</td>\n",
       "      <td>Stream</td>\n",
       "      <td>03140106</td>\n",
       "      <td>https://www.waterqualitydata.us/provider/NWIS/...</td>\n",
       "      <td>1</td>\n",
       "      <td>12</td>\n",
       "      <td>Alabama</td>\n",
       "      <td>Baldwin County</td>\n",
       "      <td>-87.729157</td>\n",
       "      <td>30.738245</td>\n",
       "      <td>{\"x\": -87.72915669999998, \"y\": 30.738244800000...</td>\n",
       "    </tr>\n",
       "    <tr>\n",
       "      <th>4</th>\n",
       "      <td>5</td>\n",
       "      <td>NWIS</td>\n",
       "      <td>USGS-AL</td>\n",
       "      <td>USGS Alabama Water Science Center</td>\n",
       "      <td>USGS-02377300</td>\n",
       "      <td>STYX RIVER AT BRADY ROAD BELOW STAPLETON, AL.</td>\n",
       "      <td>Stream</td>\n",
       "      <td>Stream</td>\n",
       "      <td>03140106</td>\n",
       "      <td>https://www.waterqualitydata.us/provider/NWIS/...</td>\n",
       "      <td>23</td>\n",
       "      <td>323</td>\n",
       "      <td>Alabama</td>\n",
       "      <td>Baldwin County</td>\n",
       "      <td>-87.706656</td>\n",
       "      <td>30.691302</td>\n",
       "      <td>{\"x\": -87.70665569999994, \"y\": 30.691301500000...</td>\n",
       "    </tr>\n",
       "  </tbody>\n",
       "</table>\n",
       "</div>"
      ],
      "text/plain": [
       "   OBJECTID ProviderName OrganizationIdentifier  \\\n",
       "0         1         NWIS                USGS-AL   \n",
       "1         2         NWIS                USGS-AL   \n",
       "2         3         NWIS                USGS-AL   \n",
       "3         4         NWIS                USGS-AL   \n",
       "4         5         NWIS                USGS-AL   \n",
       "\n",
       "              OrganizationFormalName MonitoringLocationIdentifier  \\\n",
       "0  USGS Alabama Water Science Center                USGS-02376240   \n",
       "1  USGS Alabama Water Science Center                USGS-02376245   \n",
       "2  USGS Alabama Water Science Center                USGS-02376250   \n",
       "3  USGS Alabama Water Science Center                USGS-02377200   \n",
       "4  USGS Alabama Water Science Center                USGS-02377300   \n",
       "\n",
       "                          MonitoringLocationName MonitoringLocationTypeName  \\\n",
       "0         DYAS CREEK AT US HWY 31 NEAR DYAS, AL.                     Stream   \n",
       "1             MCCURTIN CREEK NEAR BAY MINETTE AL                     Stream   \n",
       "2   DYAS CREEK AT CO RD 61 NEAR BAY MINETTE, AL.                     Stream   \n",
       "3                   STYX RIVER NEAR STAPLETON AL                     Stream   \n",
       "4  STYX RIVER AT BRADY ROAD BELOW STAPLETON, AL.                     Stream   \n",
       "\n",
       "  ResolvedMonitoringLocationTypeName HUCEightDigitCode  \\\n",
       "0                             Stream          03140106   \n",
       "1                             Stream          03140106   \n",
       "2                             Stream          03140106   \n",
       "3                             Stream          03140106   \n",
       "4                             Stream          03140106   \n",
       "\n",
       "                                             siteUrl activityCount  \\\n",
       "0  https://www.waterqualitydata.us/provider/NWIS/...             2   \n",
       "1  https://www.waterqualitydata.us/provider/NWIS/...             1   \n",
       "2  https://www.waterqualitydata.us/provider/NWIS/...             0   \n",
       "3  https://www.waterqualitydata.us/provider/NWIS/...             1   \n",
       "4  https://www.waterqualitydata.us/provider/NWIS/...            23   \n",
       "\n",
       "  resultCount StateName      CountyName          X          Y  \\\n",
       "0          51   Alabama  Baldwin County -87.684989  30.933517   \n",
       "1          12   Alabama  Baldwin County -87.723046  30.909073   \n",
       "2           0   Alabama  Baldwin County -87.639987  30.870186   \n",
       "3          12   Alabama  Baldwin County -87.729157  30.738245   \n",
       "4         323   Alabama  Baldwin County -87.706656  30.691302   \n",
       "\n",
       "                                               SHAPE  \n",
       "0  {\"x\": -87.68498889999995, \"y\": 30.933517000000...  \n",
       "1  {\"x\": -87.72304579999997, \"y\": 30.909073200000...  \n",
       "2  {\"x\": -87.63998729999997, \"y\": 30.870185600000...  \n",
       "3  {\"x\": -87.72915669999998, \"y\": 30.738244800000...  \n",
       "4  {\"x\": -87.70665569999994, \"y\": 30.691301500000...  "
      ]
     },
     "execution_count": 14,
     "metadata": {},
     "output_type": "execute_result"
    }
   ],
   "source": [
    "stations_df = pandas.DataFrame.spatial.from_featureclass(CLIPPED_STATIONS_FC)\n",
    "stations_df.set_index('MonitoringLocationIdentifier')\n",
    "stations_df.head()"
   ]
  },
  {
   "cell_type": "code",
   "execution_count": 15,
   "metadata": {},
   "outputs": [
    {
     "name": "stdout",
     "output_type": "stream",
     "text": [
      "OBJECTID\n",
      "ProviderName\n",
      "OrganizationIdentifier\n",
      "OrganizationFormalName\n",
      "MonitoringLocationIdentifier\n",
      "MonitoringLocationName\n",
      "MonitoringLocationTypeName\n",
      "ResolvedMonitoringLocationTypeName\n",
      "HUCEightDigitCode\n",
      "siteUrl\n",
      "activityCount\n",
      "resultCount\n",
      "StateName\n",
      "CountyName\n",
      "X\n",
      "Y\n",
      "SHAPE\n"
     ]
    }
   ],
   "source": [
    "for col in stations_df.columns:\n",
    "    print(col)"
   ]
  },
  {
   "cell_type": "code",
   "execution_count": 16,
   "metadata": {},
   "outputs": [
    {
     "data": {
      "text/html": [
       "<div class='gpresult'><h2>Messages</h2><div id='messages' data-messages='[\"Start Time: Tuesday, May 2, 2023 8:29:40 AM\",\"Succeeded at Tuesday, May 2, 2023 8:29:40 AM (Elapsed Time: 0.73 seconds)\"]' data-show='true'><div id = 'default' /></div></div>"
      ],
      "text/plain": [
       "<Result 'C:\\\\temp\\\\EPA-Water-Quality\\\\working_20230502\\\\GoMA_Water_Quality_Data.gdb\\\\GoMA_Sample_Data'>"
      ]
     },
     "execution_count": 16,
     "metadata": {},
     "output_type": "execute_result"
    }
   ],
   "source": [
    "# create an empty table inside the file geodatabase\n",
    "\n",
    "arcpy.management.CreateTable(\n",
    "    out_path=GDB_FULL_PATH,\n",
    "    out_name=\"GoMA_Sample_Data\",\n",
    "    template=r\"C:\\temp\\EPA-Water-Quality\\csvSchema.csv\",\n",
    "    config_keyword=\"\",\n",
    "    out_alias=\"\"\n",
    ")"
   ]
  },
  {
   "cell_type": "code",
   "execution_count": 17,
   "metadata": {},
   "outputs": [],
   "source": [
    "# create definitions for the download routine the includes retrying if a download fails\n",
    "\n",
    "def download_routine(URL, Output):\n",
    "    retries = 3\n",
    "    wait = 5\n",
    "    while retries:\n",
    "        try:\n",
    "            urllib.request.urlretrieve(URL, Output)\n",
    "            return True\n",
    "        except Exception as e:\n",
    "            print('failed to download, error: {}'.format(e))\n",
    "            retries -=1\n",
    "            if retries:\n",
    "                wait *=2"
   ]
  },
  {
   "cell_type": "code",
   "execution_count": 18,
   "metadata": {},
   "outputs": [
    {
     "name": "stderr",
     "output_type": "stream",
     "text": [
      "C:\\Users\\keit8223\\AppData\\Local\\Temp\\1\\ipykernel_40396\\1235162711.py:27: DtypeWarning: Columns (10,60,62,63,69,70) have mixed types. Specify dtype option on import or set low_memory=False.\n",
      "  sample_df = pandas.read_csv(new_file)\n",
      "C:\\Users\\keit8223\\AppData\\Local\\Temp\\1\\ipykernel_40396\\1235162711.py:27: DtypeWarning: Columns (10,62,63,69,70) have mixed types. Specify dtype option on import or set low_memory=False.\n",
      "  sample_df = pandas.read_csv(new_file)\n",
      "C:\\Users\\keit8223\\AppData\\Local\\Temp\\1\\ipykernel_40396\\1235162711.py:27: DtypeWarning: Columns (17) have mixed types. Specify dtype option on import or set low_memory=False.\n",
      "  sample_df = pandas.read_csv(new_file)\n",
      "C:\\Users\\keit8223\\AppData\\Local\\Temp\\1\\ipykernel_40396\\1235162711.py:27: DtypeWarning: Columns (69,70) have mixed types. Specify dtype option on import or set low_memory=False.\n",
      "  sample_df = pandas.read_csv(new_file)\n",
      "C:\\Users\\keit8223\\AppData\\Local\\Temp\\1\\ipykernel_40396\\1235162711.py:27: DtypeWarning: Columns (9,20,71) have mixed types. Specify dtype option on import or set low_memory=False.\n",
      "  sample_df = pandas.read_csv(new_file)\n",
      "C:\\Users\\keit8223\\AppData\\Local\\Temp\\1\\ipykernel_40396\\1235162711.py:27: DtypeWarning: Columns (17) have mixed types. Specify dtype option on import or set low_memory=False.\n",
      "  sample_df = pandas.read_csv(new_file)\n",
      "C:\\Users\\keit8223\\AppData\\Local\\Temp\\1\\ipykernel_40396\\1235162711.py:27: DtypeWarning: Columns (17,60) have mixed types. Specify dtype option on import or set low_memory=False.\n",
      "  sample_df = pandas.read_csv(new_file)\n"
     ]
    },
    {
     "name": "stdout",
     "output_type": "stream",
     "text": [
      "60-second pause.....\n",
      "Processing Station 21AWIC-886\n"
     ]
    },
    {
     "name": "stderr",
     "output_type": "stream",
     "text": [
      "C:\\Users\\keit8223\\AppData\\Local\\Temp\\1\\ipykernel_40396\\1235162711.py:27: DtypeWarning: Columns (17,60) have mixed types. Specify dtype option on import or set low_memory=False.\n",
      "  sample_df = pandas.read_csv(new_file)\n"
     ]
    },
    {
     "name": "stdout",
     "output_type": "stream",
     "text": [
      "Number of download failures: 0\n",
      "[]\n"
     ]
    }
   ],
   "source": [
    "# Use the station list to get the sample data for each station\n",
    "\n",
    "valueList = []  # array to hold list of values collected\n",
    "valueSet = set()  # set to hold values to test against to get list\n",
    "rows = arcpy.SearchCursor(WORKING_STATIONS_FC)\n",
    "field = \"MonitoringLocationIdentifier\"\n",
    "index = 0\n",
    "downloadFailures = []\n",
    "\n",
    "for row in rows:\n",
    "    value = row.getValue(field)\n",
    "    #print(index, row)\n",
    "    index += 1\n",
    "    if index % 1000 == 0:\n",
    "        time.sleep(60)\n",
    "        print(\"60-second pause.....\")\n",
    "        print('Processing Station ' + value)\n",
    "    old_file = os.path.join(CSV_WORKING_DIRECTORY, 'narrowresult.csv')\n",
    "    new_file = os.path.join(CSV_WORKING_DIRECTORY, value +'.csv')\n",
    "    sample_data_zip = CSV_WORKING_DIRECTORY + str(value) + '_' + CURRENT_DATE + '_sample_narrow.zip'\n",
    "    station_narrow_url = 'https://www.waterqualitydata.us/data/Result/search?siteid=' + value + '&mimeType=csv&zip=yes&dataProfile=narrowResult&providers=NWIS&providers=STEWARDS&providers=STORET'\n",
    "    if download_routine(station_narrow_url, sample_data_zip):\n",
    "        with zipfile.ZipFile(sample_data_zip, 'r') as zip_ref:\n",
    "            zip_ref.extractall(CSV_WORKING_DIRECTORY)\n",
    "        os.rename(old_file, new_file)\n",
    "        os.remove(sample_data_zip)\n",
    "        sample_df = pandas.read_csv(new_file)\n",
    "        sample_df.set_index('MonitoringLocationIdentifier')\n",
    "        result = pandas.merge(sample_df, stations_df, how='left')\n",
    "        result.drop(columns=['OBJECTID','SHAPE'], inplace=True)\n",
    "        result.to_csv(new_file)\n",
    "    else:\n",
    "        downloadFailures.append(value)\n",
    "    ## Load stations list as a dictionary would be an improvement here\n",
    "    fcName = value.replace('-','_')\n",
    "    # OFC = GDB_FULL_PATH + '\\\\' + fcName,\n",
    "    # print(OFC)\n",
    "    # arcpy.management.Append(\n",
    "    #     inputs=new_file,\n",
    "    #     target=GDB_FULL_PATH +'\\\\' + 'GoMA_Sample_Data',\n",
    "    #     schema_type=\"TEST\",\n",
    "    #     field_mapping=None,\n",
    "    #     subtype=\"\",\n",
    "    #     expression=\"\",\n",
    "    #     match_fields=None,\n",
    "    #     update_geometry=\"NOT_UPDATE_GEOMETRY\"\n",
    "    # )\n",
    "    #arcpy.TableToTable_conversion(new_file, GDB_FULL_PATH, fcName)\n",
    "    # arcpy.management.XYTableToPoint(\n",
    "    #     in_table=new_file,\n",
    "    #     out_feature_class= OFC,\n",
    "    #     x_field=\"X\",\n",
    "    #     y_field=\"Y\",\n",
    "    #     z_field=None,\n",
    "    #     coordinate_system='GEOGCS[\"GCS_WGS_1984\",DATUM[\"D_WGS_1984\",SPHEROID[\"WGS_1984\",6378137.0,298.257223563]],PRIMEM[\"Greenwich\",0.0],UNIT[\"Degree\",0.0174532925199433]];-400 -400 1000000000;-100000 10000;-100000 10000;8.98315284119521E-09;0.001;0.001;IsHighPrecision'\n",
    "    #     )\n",
    "print('Number of download failures: {}'.format(len(downloadFailures)))\n",
    "print(downloadFailures)\n",
    "\n"
   ]
  },
  {
   "cell_type": "code",
   "execution_count": 19,
   "metadata": {},
   "outputs": [
    {
     "name": "stderr",
     "output_type": "stream",
     "text": [
      "C:\\Users\\keit8223\\AppData\\Local\\Temp\\1\\ipykernel_40396\\3856583867.py:8: DtypeWarning: Columns (11,61,63,64,70,71) have mixed types. Specify dtype option on import or set low_memory=False.\n",
      "  GOMA_NAROW_STATIONS_MERGED = pandas.concat(map(pandas.read_csv, joined_list), ignore_index=True)\n",
      "C:\\Users\\keit8223\\AppData\\Local\\Temp\\1\\ipykernel_40396\\3856583867.py:8: DtypeWarning: Columns (11,63,64,70,71) have mixed types. Specify dtype option on import or set low_memory=False.\n",
      "  GOMA_NAROW_STATIONS_MERGED = pandas.concat(map(pandas.read_csv, joined_list), ignore_index=True)\n",
      "C:\\Users\\keit8223\\AppData\\Local\\Temp\\1\\ipykernel_40396\\3856583867.py:8: DtypeWarning: Columns (18) have mixed types. Specify dtype option on import or set low_memory=False.\n",
      "  GOMA_NAROW_STATIONS_MERGED = pandas.concat(map(pandas.read_csv, joined_list), ignore_index=True)\n",
      "C:\\Users\\keit8223\\AppData\\Local\\Temp\\1\\ipykernel_40396\\3856583867.py:8: DtypeWarning: Columns (70,71) have mixed types. Specify dtype option on import or set low_memory=False.\n",
      "  GOMA_NAROW_STATIONS_MERGED = pandas.concat(map(pandas.read_csv, joined_list), ignore_index=True)\n",
      "C:\\Users\\keit8223\\AppData\\Local\\Temp\\1\\ipykernel_40396\\3856583867.py:8: DtypeWarning: Columns (10,21,72) have mixed types. Specify dtype option on import or set low_memory=False.\n",
      "  GOMA_NAROW_STATIONS_MERGED = pandas.concat(map(pandas.read_csv, joined_list), ignore_index=True)\n",
      "C:\\Users\\keit8223\\AppData\\Local\\Temp\\1\\ipykernel_40396\\3856583867.py:8: DtypeWarning: Columns (18) have mixed types. Specify dtype option on import or set low_memory=False.\n",
      "  GOMA_NAROW_STATIONS_MERGED = pandas.concat(map(pandas.read_csv, joined_list), ignore_index=True)\n",
      "C:\\Users\\keit8223\\AppData\\Local\\Temp\\1\\ipykernel_40396\\3856583867.py:8: DtypeWarning: Columns (18,61) have mixed types. Specify dtype option on import or set low_memory=False.\n",
      "  GOMA_NAROW_STATIONS_MERGED = pandas.concat(map(pandas.read_csv, joined_list), ignore_index=True)\n",
      "C:\\Users\\keit8223\\AppData\\Local\\Temp\\1\\ipykernel_40396\\3856583867.py:8: DtypeWarning: Columns (18,61) have mixed types. Specify dtype option on import or set low_memory=False.\n",
      "  GOMA_NAROW_STATIONS_MERGED = pandas.concat(map(pandas.read_csv, joined_list), ignore_index=True)\n"
     ]
    }
   ],
   "source": [
    "# now let's merge all the CSV files into one\n",
    "\n",
    "SAMPLE_NARROW_MERGED_CSV = CSV_WORKING_DIRECTORY + \"All_GOMA_Sample_Narrow_Results.csv\"\n",
    "joined_files = os.path.join(CSV_WORKING_DIRECTORY, \"*.csv\")\n",
    "# A list of all joined files is returned\n",
    "joined_list = glob.glob(joined_files)\n",
    "# Finally, the files are joined\n",
    "GOMA_NAROW_STATIONS_MERGED = pandas.concat(map(pandas.read_csv, joined_list), ignore_index=True)\n",
    "GOMA_NAROW_STATIONS_MERGED.to_csv(SAMPLE_NARROW_MERGED_CSV, index=False)"
   ]
  },
  {
   "cell_type": "code",
   "execution_count": 20,
   "metadata": {},
   "outputs": [
    {
     "data": {
      "text/html": [
       "<div class='gpresult'><h2>Messages</h2><div id='messages' data-messages='[\"Start Time: Tuesday, May 2, 2023 8:51:40 AM\",\"Succeeded at Tuesday, May 2, 2023 8:52:20 AM (Elapsed Time: 39.79 seconds)\"]' data-show='true'><div id = 'default' /></div></div>"
      ],
      "text/plain": [
       "<Result 'C:\\\\temp\\\\EPA-Water-Quality\\\\working_20230502\\\\GoMA_Water_Quality_Data.gdb\\\\sample_stations'>"
      ]
     },
     "execution_count": 20,
     "metadata": {},
     "output_type": "execute_result"
    }
   ],
   "source": [
    "# now let's create a shapefile from the merged CSV file\n",
    "\n",
    "# SHAPEFILE_NAME = 'sample_stations'\n",
    "FC_NAME = 'sample_stations'\n",
    "# SAMPLE_STATIONS_SHP = CSV_WORKING_DIRECTORY + SHAPEFILE_NAME + '.shp'\n",
    "SAMPLE_STATIONS_FC = GDB_FULL_PATH + '//' + FC_NAME\n",
    "# SAMPLE_STATIONS = CSV_WORKING_DIRECTORY + SHAPEFILE_NAME\n",
    "\n",
    "arcpy.management.XYTableToPoint(\n",
    "    in_table=SAMPLE_NARROW_MERGED_CSV,\n",
    "    out_feature_class=SAMPLE_STATIONS_FC,\n",
    "    x_field=\"X\",\n",
    "    y_field=\"Y\",\n",
    "    z_field=None,\n",
    "    coordinate_system='GEOGCS[\"GCS_WGS_1984\",DATUM[\"D_WGS_1984\",SPHEROID[\"WGS_1984\",6378137.0,298.257223563]],PRIMEM[\"Greenwich\",0.0],UNIT[\"Degree\",0.0174532925199433]];-400 -400 1000000000;-100000 10000;-100000 10000;8.98315284119521E-09;0.001;0.001;IsHighPrecision'\n",
    ")"
   ]
  },
  {
   "cell_type": "code",
   "execution_count": 21,
   "metadata": {},
   "outputs": [],
   "source": [
    "# # now let's zip the shapefile so we can publish to arcgis online\n",
    "\n",
    "# ZIPFILE_LOCATION = CSV_WORKING_DIRECTORY + SHAPEFILE_NAME + '.zip'\n",
    "\n",
    "# shapefiles_list = [SAMPLE_STATIONS + \".cpg\",\n",
    "#                    SAMPLE_STATIONS + \".dbf\",\n",
    "#                    SAMPLE_STATIONS + \".prj\",\n",
    "#                    SAMPLE_STATIONS + \".sbn\",\n",
    "#                    SAMPLE_STATIONS + \".sbx\",\n",
    "#                    SAMPLE_STATIONS + \".shp\",\n",
    "#                    SAMPLE_STATIONS + \".shp.xml\",\n",
    "#                    SAMPLE_STATIONS + \".shx\"]\n",
    "# with zipfile.ZipFile(ZIPFILE_LOCATION, 'w') as zipMe:        \n",
    "#     for file in shapefiles_list:\n",
    "#         zipMe.write(file, compress_type=zipfile.ZIP_DEFLATED)"
   ]
  }
 ],
 "metadata": {
  "kernelspec": {
   "display_name": "Python 3",
   "language": "python",
   "name": "python3"
  },
  "language_info": {
   "codemirror_mode": {
    "name": "ipython",
    "version": 3
   },
   "file_extension": ".py",
   "mimetype": "text/x-python",
   "name": "python",
   "nbconvert_exporter": "python",
   "pygments_lexer": "ipython3",
   "version": "3.9.16"
  },
  "orig_nbformat": 4
 },
 "nbformat": 4,
 "nbformat_minor": 2
}
