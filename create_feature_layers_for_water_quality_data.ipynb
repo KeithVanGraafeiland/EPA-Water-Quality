{
 "cells": [
  {
   "attachments": {},
   "cell_type": "markdown",
   "metadata": {},
   "source": [
    "#### First download the station data for the Gulf States (TX, LA, AL, MS, FL)\n",
    "#### Then clip the stations to the watershed counties \n",
    "#### Use the station names to build a URL and access the narrow results from the EPA Water Quality API"
   ]
  },
  {
   "attachments": {},
   "cell_type": "markdown",
   "metadata": {},
   "source": [
    "### URL Examples\n",
    "##### EPA Water Quality Site:\n",
    "##### https://www.waterqualitydata.us/\n",
    "\n",
    "##### Download all the stations for USA states FL, AL, TX, MS, LA as a GEOJSON:\n",
    "##### https://www.waterqualitydata.us/data/Station/search?countrycode=US&statecode=US%3A01&statecode=US%3A12&statecode=US%3A48&statecode=US%3A28&statecode=US%3A22&mimeType=geojsonv&zip=yes&providers=NWIS&providers=STEWARDS&providers=STORET\n",
    "\n",
    "##### Download all the sample data for a given station (0800257-CC-05) as a CSV:\n",
    "##### https://www.waterqualitydata.us/data/Result/search?siteid=0800257-CC-05&mimeType=csv&zip=yes&dataProfile=narrowResult&providers=NWIS&providers=STEWARDS&providers=STORET"
   ]
  },
  {
   "cell_type": "code",
   "execution_count": 1,
   "metadata": {},
   "outputs": [],
   "source": [
    "import arcpy"
   ]
  },
  {
   "cell_type": "code",
   "execution_count": null,
   "metadata": {},
   "outputs": [],
   "source": [
    "## coastal_watershed_counties item id = ff61c0c5154d4791ae51f00c4e4a3a98\n",
    "\n",
    "\n",
    "GOMA_STATIONS = \n",
    "for x in GOMA_STATIONS:\n"
   ]
  }
 ],
 "metadata": {
  "kernelspec": {
   "display_name": "Python 3",
   "language": "python",
   "name": "python3"
  },
  "language_info": {
   "codemirror_mode": {
    "name": "ipython",
    "version": 3
   },
   "file_extension": ".py",
   "mimetype": "text/x-python",
   "name": "python",
   "nbconvert_exporter": "python",
   "pygments_lexer": "ipython3",
   "version": "3.9.16"
  },
  "orig_nbformat": 4
 },
 "nbformat": 4,
 "nbformat_minor": 2
}
