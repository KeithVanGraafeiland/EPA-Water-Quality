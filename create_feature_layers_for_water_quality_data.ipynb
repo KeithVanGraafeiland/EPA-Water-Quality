{
 "cells": [
  {
   "attachments": {},
   "cell_type": "markdown",
   "metadata": {},
   "source": [
    "#### First download the station data for the Gulf States (TX, LA, AL, MS, FL)\n",
    "#### Then clip the stations to the watershed counties \n",
    "#### Use the station names to build a URL and access the narrow results from the EPA Water Quality API"
   ]
  },
  {
   "attachments": {},
   "cell_type": "markdown",
   "metadata": {},
   "source": [
    "### URL Examples\n",
    "##### EPA Water Quality Site:\n",
    "##### https://www.waterqualitydata.us/\n",
    "\n",
    "##### Download all the stations for USA states FL, AL, TX, MS, LA as a GEOJSON:\n",
    "##### https://www.waterqualitydata.us/data/Station/search?countrycode=US&statecode=US%3A01&statecode=US%3A12&statecode=US%3A48&statecode=US%3A28&statecode=US%3A22&mimeType=geojsonv&zip=yes&providers=NWIS&providers=STEWARDS&providers=STORET\n",
    "\n",
    "##### Download all the sample data for a given station (0800257-CC-05) as a CSV:\n",
    "##### https://www.waterqualitydata.us/data/Result/search?siteid=0800257-CC-05&mimeType=csv&zip=yes&dataProfile=narrowResult&providers=NWIS&providers=STEWARDS&providers=STORET"
   ]
  },
  {
   "attachments": {},
   "cell_type": "markdown",
   "metadata": {},
   "source": [
    "#### Arcpy Reference: https://developers.arcgis.com/python/api-reference/"
   ]
  },
  {
   "cell_type": "code",
   "execution_count": 1,
   "metadata": {},
   "outputs": [],
   "source": [
    "import arcpy\n",
    "import arcgis\n",
    "from arcgis.gis import GIS\n",
    "#from arcgis.mapping import WebMap\n",
    "from datetime import datetime\n",
    "from datetime import timedelta\n",
    "import urllib.request\n",
    "import os\n",
    "import pandas\n",
    "import glob\n",
    "gis = GIS(\"home\")\n",
    "arcpy.env.overwriteOutput = True\n",
    "arcgis.env.verbose = True "
   ]
  },
  {
   "cell_type": "code",
   "execution_count": 2,
   "metadata": {},
   "outputs": [],
   "source": [
    "ROOT = r'C:\\Temp\\EPA-Water-Quality' #TODO Change to your preferred directory\n",
    "TODAY = (datetime.today())\n",
    "CURRENT_DATE = (TODAY.strftime('%Y%m%d'))\n",
    "#WATER_QUALITY_STATIONS_URL = 'https://www.waterqualitydata.us/data/Station/search?countrycode=US&statecode=US%3A01&countycode=US%3A01%3A003&mimeType=geojson&zip=yes&providers=NWIS&providers=STEWARDS&providers=STORET'\n",
    "WATER_QUALITY_STATIONS_URL = 'https://www.waterqualitydata.us/data/Station/search?countrycode=US&statecode=US%3A01&statecode=US%3A12&statecode=US%3A22&statecode=US%3A28&statecode=US%3A48&mimeType=geojson&zip=yes&providers=NWIS&providers=STEWARDS&providers=STORET'\n",
    "WORKING_DIRECTORY = ROOT + '\\\\working_' + str(CURRENT_DATE) + '\\\\'\n",
    "WATER_QUALITY_STATIONS_DIRECTORY = WORKING_DIRECTORY + '\\\\stations\\\\'\n",
    "WATER_QUALITY_STATIONS_ZIP = WATER_QUALITY_STATIONS_DIRECTORY + 'water_quality_stations.zip'\n",
    "WORKING_STATIONS_JSON = WORKING_DIRECTORY + 'station.geojson'\n",
    "WORKING_STATIONS_SHP  = WORKING_DIRECTORY + 'station.shp'\n",
    "CLIPPED_STATIONS = WORKING_DIRECTORY + 'goma_stations.shp'\n",
    "COASTAL_COUNTIES = WORKING_DIRECTORY + 'coastal_watershed_counties.shp'\n",
    "CSV_WORKING_DIRECTORY = WORKING_DIRECTORY + 'csv\\\\'"
   ]
  },
  {
   "cell_type": "code",
   "execution_count": 3,
   "metadata": {},
   "outputs": [],
   "source": [
    "if not os.path.exists(ROOT):\n",
    "    os.makedirs(ROOT)\n",
    "if not os.path.exists(WORKING_DIRECTORY):\n",
    "    os.makedirs(WORKING_DIRECTORY)\n",
    "if not os.path.exists(CSV_WORKING_DIRECTORY):\n",
    "    os.makedirs(CSV_WORKING_DIRECTORY)\n",
    "if not os.path.exists(WATER_QUALITY_STATIONS_DIRECTORY):\n",
    "    os.makedirs(WATER_QUALITY_STATIONS_DIRECTORY)"
   ]
  },
  {
   "cell_type": "code",
   "execution_count": 4,
   "metadata": {},
   "outputs": [
    {
     "data": {
      "text/html": [
       "<div class=\"item_container\" style=\"height: auto; overflow: hidden; border: 1px solid #cfcfcf; border-radius: 2px; background: #f6fafa; line-height: 1.21429em; padding: 10px;\">\n",
       "                    <div class=\"item_left\" style=\"width: 210px; float: left;\">\n",
       "                       <a href='https://www.arcgis.com//home/item.html?id=ff61c0c5154d4791ae51f00c4e4a3a98' target='_blank'>\n",
       "                        <img src='data:image/png;base64,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' width='200' height='133' class=\"itemThumbnail\">\n",
       "                       </a>\n",
       "                    </div>\n",
       "\n",
       "                    <div class=\"item_right\"     style=\"float: none; width: auto; overflow: hidden;\">\n",
       "                        <a href='https://www.arcgis.com//home/item.html?id=ff61c0c5154d4791ae51f00c4e4a3a98' target='_blank'><b>coastal_watershed_counties_2010</b>\n",
       "                        </a>\n",
       "                        <br/><img src='https://www.arcgis.com//home/js/jsapi/esri/css/images/item_type_icons/featureshosted16.png' style=\"vertical-align:middle;\">Feature Layer Collection by kvangraafeiland_oceans\n",
       "                        <br/>Last Modified: April 20, 2023\n",
       "                        <br/>0 comments, 38 views\n",
       "                    </div>\n",
       "                </div>\n",
       "                "
      ],
      "text/plain": [
       "<Item title:\"coastal_watershed_counties_2010\" type:Feature Layer Collection owner:kvangraafeiland_oceans>"
      ]
     },
     "execution_count": 4,
     "metadata": {},
     "output_type": "execute_result"
    }
   ],
   "source": [
    "## Clip the stations to the specified polygon boundary \n",
    "\n",
    "## coastal_watershed_counties item id = ff61c0c5154d4791ae51f00c4e4a3a98\n",
    "coastal_watershed_counties_item = gis.content.get('ff61c0c5154d4791ae51f00c4e4a3a98')\n",
    "coastal_watershed_counties_item"
   ]
  },
  {
   "cell_type": "code",
   "execution_count": 5,
   "metadata": {},
   "outputs": [
    {
     "data": {
      "text/plain": [
       "<FeatureLayer url:\"https://services.arcgis.com/bDAhvQYMG4WL8O5o/arcgis/rest/services/coastal_watershed_counties_2010/FeatureServer/0\">"
      ]
     },
     "execution_count": 5,
     "metadata": {},
     "output_type": "execute_result"
    }
   ],
   "source": [
    "coastal_watershed_counties_layer = coastal_watershed_counties_item.layers[0]\n",
    "coastal_watershed_counties_layer"
   ]
  },
  {
   "cell_type": "code",
   "execution_count": 6,
   "metadata": {},
   "outputs": [],
   "source": [
    "urllib.request.urlretrieve(WATER_QUALITY_STATIONS_URL, WATER_QUALITY_STATIONS_ZIP)"
   ]
  },
  {
   "cell_type": "code",
   "execution_count": null,
   "metadata": {},
   "outputs": [],
   "source": [
    "import zipfile\n",
    "with zipfile.ZipFile(WATER_QUALITY_STATIONS_ZIP, 'r') as zip_ref:\n",
    "    zip_ref.extractall(WORKING_DIRECTORY)"
   ]
  },
  {
   "cell_type": "code",
   "execution_count": null,
   "metadata": {},
   "outputs": [],
   "source": [
    "arcpy.conversion.JSONToFeatures(WORKING_STATIONS_JSON, WORKING_STATIONS_SHP, geometry_type=\"POINT\")"
   ]
  },
  {
   "cell_type": "code",
   "execution_count": null,
   "metadata": {},
   "outputs": [],
   "source": [
    "arcpy.analysis.PairwiseDissolve(\n",
    "    in_features=\"https://services.arcgis.com/bDAhvQYMG4WL8O5o/arcgis/rest/services/coastal_watershed_counties_2010/FeatureServer/0\",\n",
    "    out_feature_class=COASTAL_COUNTIES,\n",
    "    dissolve_field=None,\n",
    "    statistics_fields=None,\n",
    "    multi_part=\"MULTI_PART\",\n",
    "    concatenation_separator=\"\"\n",
    ")"
   ]
  },
  {
   "cell_type": "code",
   "execution_count": null,
   "metadata": {},
   "outputs": [],
   "source": [
    "arcpy.analysis.Clip(WORKING_STATIONS_SHP, COASTAL_COUNTIES, CLIPPED_STATIONS)"
   ]
  },
  {
   "cell_type": "code",
   "execution_count": null,
   "metadata": {},
   "outputs": [],
   "source": [
    "arcpy.management.CalculateGeometryAttributes(CLIPPED_STATIONS, [[\"X\", \"POINT_X\"], [\"Y\", \"POINT_Y\"]])"
   ]
  },
  {
   "cell_type": "code",
   "execution_count": null,
   "metadata": {},
   "outputs": [],
   "source": [
    "stations_df = pandas.DataFrame.spatial.from_featureclass(CLIPPED_STATIONS)\n",
    "stations_df.set_index('Monitoring')\n",
    "stations_df.head()"
   ]
  },
  {
   "cell_type": "code",
   "execution_count": null,
   "metadata": {},
   "outputs": [],
   "source": [
    "for col in stations_df.columns:\n",
    "    print(col)"
   ]
  },
  {
   "cell_type": "code",
   "execution_count": null,
   "metadata": {},
   "outputs": [],
   "source": [
    "# let's use the \n",
    "\n",
    "valueList = []  # array to hold list of values collected\n",
    "valueSet = set()  # set to hold values to test against to get list\n",
    "rows = arcpy.SearchCursor(WORKING_STATIONS_SHP)\n",
    "field = \"Monitoring\"\n",
    "for row in rows:\n",
    "    value = row.getValue(field)\n",
    "    print('Processing Station ' + value)\n",
    "    old_file = os.path.join(CSV_WORKING_DIRECTORY, 'narrowresult.csv')\n",
    "    new_file = os.path.join(CSV_WORKING_DIRECTORY, value +'.csv')\n",
    "    sample_data_zip = CSV_WORKING_DIRECTORY + str(value) + '_' + CURRENT_DATE + '_sample_narrow.zip'\n",
    "    station_narrow_url = 'https://www.waterqualitydata.us/data/Result/search?siteid=' + value + '&mimeType=csv&zip=yes&dataProfile=narrowResult&providers=NWIS&providers=STEWARDS&providers=STORET'\n",
    "    urllib.request.urlretrieve(station_narrow_url, sample_data_zip)\n",
    "    with zipfile.ZipFile(sample_data_zip, 'r') as zip_ref:\n",
    "        zip_ref.extractall(CSV_WORKING_DIRECTORY)\n",
    "    os.rename(old_file, new_file)\n",
    "    os.remove(sample_data_zip)\n",
    "    sample_df = pandas.read_csv(new_file)\n",
    "    sample_df.rename(columns={'MonitoringLocationIdentifier':'Monitoring'}, inplace=True)\n",
    "    sample_df.set_index('Monitoring')\n",
    "    result = pandas.merge(sample_df, stations_df, how='left')\n",
    "    result.drop(columns=['FID','SHAPE'], inplace=True)\n",
    "    result.to_csv(new_file)\n",
    "\n"
   ]
  },
  {
   "cell_type": "code",
   "execution_count": null,
   "metadata": {},
   "outputs": [],
   "source": [
    "# now let's merge all the CSV files into one\n",
    "\n",
    "SAMPLE_NARROW_MERGED_CSV = CSV_WORKING_DIRECTORY + \"All_GOMA_Sample_Narrow_Results.csv\"\n",
    "joined_files = os.path.join(CSV_WORKING_DIRECTORY, \"*.csv\")\n",
    "# A list of all joined files is returned\n",
    "joined_list = glob.glob(joined_files)\n",
    "# Finally, the files are joined\n",
    "GOMA_NAROW_STATIONS_MERGED = pandas.concat(map(pandas.read_csv, joined_list), ignore_index=True)\n",
    "GOMA_NAROW_STATIONS_MERGED.to_csv(SAMPLE_NARROW_MERGED_CSV, index=False)"
   ]
  },
  {
   "cell_type": "code",
   "execution_count": null,
   "metadata": {},
   "outputs": [],
   "source": [
    "# now let's create a shpaefile from the merged CSV file\n",
    "\n",
    "SHAPEFILE_NAME = 'sample_stations'\n",
    "SAMPLE_STATIONS_SHP = CSV_WORKING_DIRECTORY + SHAPEFILE_NAME + '.shp'\n",
    "SAMPLE_STATIONS = CSV_WORKING_DIRECTORY + SHAPEFILE_NAME\n",
    "\n",
    "arcpy.management.XYTableToPoint(\n",
    "    in_table=SAMPLE_NARROW_MERGED_CSV,\n",
    "    out_feature_class=SAMPLE_STATIONS_SHP,\n",
    "    x_field=\"X\",\n",
    "    y_field=\"Y\",\n",
    "    z_field=None,\n",
    "    coordinate_system='GEOGCS[\"GCS_WGS_1984\",DATUM[\"D_WGS_1984\",SPHEROID[\"WGS_1984\",6378137.0,298.257223563]],PRIMEM[\"Greenwich\",0.0],UNIT[\"Degree\",0.0174532925199433]];-400 -400 1000000000;-100000 10000;-100000 10000;8.98315284119521E-09;0.001;0.001;IsHighPrecision'\n",
    ")"
   ]
  },
  {
   "cell_type": "code",
   "execution_count": null,
   "metadata": {},
   "outputs": [],
   "source": [
    "# now let's zip the shapefile so we can publish to arcgis online\n",
    "\n",
    "ZIPFILE_LOCATION = CSV_WORKING_DIRECTORY + SHAPEFILE_NAME + '.zip'\n",
    "\n",
    "shapefiles_list = [SAMPLE_STATIONS + \".cpg\",\n",
    "                   SAMPLE_STATIONS + \".dbf\",\n",
    "                   SAMPLE_STATIONS + \".prj\",\n",
    "                   SAMPLE_STATIONS + \".sbn\",\n",
    "                   SAMPLE_STATIONS + \".sbx\",\n",
    "                   SAMPLE_STATIONS + \".shp\",\n",
    "                   SAMPLE_STATIONS + \".shp.xml\",\n",
    "                   SAMPLE_STATIONS + \".shx\"]\n",
    "with zipfile.ZipFile(ZIPFILE_LOCATION, 'w') as zipMe:        \n",
    "    for file in shapefiles_list:\n",
    "        zipMe.write(file, compress_type=zipfile.ZIP_DEFLATED)"
   ]
  }
 ],
 "metadata": {
  "kernelspec": {
   "display_name": "Python 3",
   "language": "python",
   "name": "python3"
  },
  "language_info": {
   "codemirror_mode": {
    "name": "ipython",
    "version": 3
   },
   "file_extension": ".py",
   "mimetype": "text/x-python",
   "name": "python",
   "nbconvert_exporter": "python",
   "pygments_lexer": "ipython3",
   "version": "3.9.16"
  },
  "orig_nbformat": 4
 },
 "nbformat": 4,
 "nbformat_minor": 2
}
