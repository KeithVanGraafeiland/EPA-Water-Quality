{
 "cells": [
  {
   "cell_type": "code",
   "execution_count": null,
   "metadata": {},
   "outputs": [],
   "source": [
    "\n",
    "\n",
    "NDBC_Realtime_Folder = 'https://www.ndbc.noaa.gov/data/realtime2/'\n",
    "NDBC_Stations_Folder = 'https://www.ndbc.noaa.gov/data/stations/'"
   ]
  },
  {
   "cell_type": "code",
   "execution_count": null,
   "metadata": {},
   "outputs": [],
   "source": [
    "import pandas as pd\n",
    "from bs4 import BeautifulSoup\n",
    "import requests\n",
    "from io import StringIO\n",
    "\n",
    "station_list = 'https://www.ndbc.noaa.gov/data/stations/station_table.txt'\n",
    "response = requests.get(station_list)\n",
    "soup = BeautifulSoup(response.text, 'html.parser')\n",
    "soup\n"
   ]
  },
  {
   "cell_type": "code",
   "execution_count": null,
   "metadata": {},
   "outputs": [],
   "source": [
    "# Convert the soup text into a DataFrame\n",
    "data = StringIO(soup.text)\n",
    "columns = ['STATION_ID', 'OWNER', 'TTYPE', 'HULL', 'NAME', 'PAYLOAD', 'LOCATION', 'TIMEZONE', 'FORECAST', 'NOTE']\n",
    "df_stations = pd.read_csv(data, sep='|', names=columns, index_col=False, skiprows=2)\n",
    "df_stations"
   ]
  },
  {
   "cell_type": "code",
   "execution_count": null,
   "metadata": {},
   "outputs": [],
   "source": [
    "stations_xml = 'https://www.ndbc.noaa.gov/activestations.xml'\n",
    "response_xml = requests.get(stations_xml)\n",
    "soup_xml = BeautifulSoup(response_xml.content, 'xml')\n",
    "\n",
    "soup_xml\n",
    "\n",
    "stations = []\n",
    "for station in soup_xml.find_all('station'):\n",
    "    stations.append(station.attrs)\n",
    "\n",
    "df_stations = pd.DataFrame(stations)\n",
    "df_stations"
   ]
  },
  {
   "cell_type": "code",
   "execution_count": null,
   "metadata": {},
   "outputs": [],
   "source": [
    "NDBC_RT_Folder = 'https://www.ndbc.noaa.gov/data/realtime2/'\n",
    "response_rt = requests.get(NDBC_RT_Folder)\n",
    "soup_rt = BeautifulSoup(response_rt.text, 'html.parser')\n",
    "\n",
    "files = [a['href'] for a in soup_rt.find_all('a', href=True)]\n",
    "files\n",
    "files = files[5:]\n",
    "download_links = [NDBC_RT_Folder + file for file in files]\n",
    "download_links\n",
    "dataframes = []\n",
    "for link in download_links:\n",
    "    print(link)\n",
    "    st_name = (link.split('/')[-1])\n",
    "    try:\n",
    "        response_file = requests.get(link)\n",
    "        data = StringIO(response_file.text)\n",
    "        df = pd.read_csv(data, delim_whitespace=True)\n",
    "        df['STATION_ID'] = st_name.split('.')[0]\n",
    "        df.to_csv (st_name, index=False)\n",
    "    except Exception as e:\n",
    "        print(f\"Failed to process {link}: {e}\")\n",
    "\n",
    "dataframes"
   ]
  }
 ],
 "metadata": {
  "kernelspec": {
   "display_name": "Python 3",
   "language": "python",
   "name": "python3"
  },
  "language_info": {
   "codemirror_mode": {
    "name": "ipython",
    "version": 3
   },
   "file_extension": ".py",
   "mimetype": "text/x-python",
   "name": "python",
   "nbconvert_exporter": "python",
   "pygments_lexer": "ipython3",
   "version": "3.11.10"
  }
 },
 "nbformat": 4,
 "nbformat_minor": 2
}
