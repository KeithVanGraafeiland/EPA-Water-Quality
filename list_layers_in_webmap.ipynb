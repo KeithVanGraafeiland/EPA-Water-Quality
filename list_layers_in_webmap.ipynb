{
 "cells": [
  {
   "cell_type": "code",
   "execution_count": 8,
   "metadata": {},
   "outputs": [
    {
     "name": "stdout",
     "output_type": "stream",
     "text": [
      "https://services2.arcgis.com/C8EMgrsFcRFL6LrL/arcgis/rest/services/NOAA_MPA_Inventory_2023/FeatureServer/0\n"
     ]
    }
   ],
   "source": [
    "from arcgis.gis import GIS\n",
    "from arcgis.mapping import WebMap\n",
    "gis = GIS('home')\n",
    "wmItemId = \"8663945e885946e09f952d61b0e9652b\" #put the id of the webmap in here\n",
    "wmItem = gis.content.get(wmItemId)\n",
    "wm = WebMap(wmItem)\n",
    "for lyr in wm.layers:\n",
    "    if lyr['layerType'] == \"VectorTileLayer\":\n",
    "        print(lyr.styleUrl)\n",
    "    else:\n",
    "        print(lyr.url)"
   ]
  }
 ],
 "metadata": {
  "kernelspec": {
   "display_name": "Python 3",
   "language": "python",
   "name": "python3"
  },
  "language_info": {
   "codemirror_mode": {
    "name": "ipython",
    "version": 3
   },
   "file_extension": ".py",
   "mimetype": "text/x-python",
   "name": "python",
   "nbconvert_exporter": "python",
   "pygments_lexer": "ipython3",
   "version": "3.9.16"
  },
  "orig_nbformat": 4
 },
 "nbformat": 4,
 "nbformat_minor": 2
}
